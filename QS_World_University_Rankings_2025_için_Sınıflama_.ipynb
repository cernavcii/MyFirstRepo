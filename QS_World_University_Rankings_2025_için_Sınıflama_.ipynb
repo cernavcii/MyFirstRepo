{
  "nbformat": 4,
  "nbformat_minor": 0,
  "metadata": {
    "colab": {
      "provenance": [],
      "authorship_tag": "ABX9TyPp/bCbitgF4j95Z/P+GNq2",
      "include_colab_link": true
    },
    "kernelspec": {
      "name": "python3",
      "display_name": "Python 3"
    },
    "language_info": {
      "name": "python"
    }
  },
  "cells": [
    {
      "cell_type": "markdown",
      "metadata": {
        "id": "view-in-github",
        "colab_type": "text"
      },
      "source": [
        "<a href=\"https://colab.research.google.com/github/cernavcii/MyFirstRepo/blob/main/QS_World_University_Rankings_2025_i%C3%A7in_S%C4%B1n%C4%B1flama_.ipynb\" target=\"_parent\"><img src=\"https://colab.research.google.com/assets/colab-badge.svg\" alt=\"Open In Colab\"/></a>"
      ]
    },
    {
      "cell_type": "code",
      "execution_count": null,
      "metadata": {
        "id": "kKwpTrZYyYNR"
      },
      "outputs": [],
      "source": [
        "import numpy as np\n",
        "import pandas as pd\n",
        "from sklearn.model_selection import train_test_split\n",
        "from sklearn.linear_model import LogisticRegression\n",
        "from sklearn.metrics import accuracy_score, precision_score, recall_score, f1_score, confusion_matrix\n",
        "from sklearn.metrics import classification_report # Import the function\n",
        "\n",
        "from sklearn.neighbors import KNeighborsClassifier\n",
        "from sklearn.model_selection import GridSearchCV\n",
        "import matplotlib.pyplot as plt\n",
        "from sklearn.metrics import roc_auc_score, roc_curve\n",
        "import seaborn as sns\n",
        "from sklearn.neighbors import KNeighborsClassifier\n",
        "from sklearn.model_selection import cross_val_score\n",
        "from sklearn.impute import SimpleImputer\n",
        "from sklearn.preprocessing import StandardScaler\n"
      ]
    },
    {
      "cell_type": "code",
      "source": [
        "data = pd.read_excel('QS 2025 rank.xlsx', sheet_name='Sheet1',index_col=0)\n"
      ],
      "metadata": {
        "id": "GS7OK_Ukydx6"
      },
      "execution_count": null,
      "outputs": []
    },
    {
      "cell_type": "code",
      "source": [
        "y = data['rank']  # Or the appropriate column for your target variable\n",
        "X = data.drop('rank', axis=1)"
      ],
      "metadata": {
        "id": "WlR937Hv3emf"
      },
      "execution_count": null,
      "outputs": []
    },
    {
      "cell_type": "code",
      "source": [
        "X_train, X_test, y_train, y_test = train_test_split(X, y, test_size=0.3, random_state=42)\n"
      ],
      "metadata": {
        "id": "WM1409U83eQd"
      },
      "execution_count": null,
      "outputs": []
    },
    {
      "cell_type": "code",
      "source": [
        "# Convert numpy arrays back to pandas DataFrames\n",
        "X_train = pd.DataFrame(X_train)\n",
        "X_test = pd.DataFrame(X_test)\n",
        "\n",
        "# Drop rows with any missing values in either X_train or X_test\n",
        "X_train = X_train.dropna(axis=0) # Drop rows with missing values\n",
        "y_train = y_train[X_train.index]  # Keep corresponding target values\n",
        "\n",
        "X_test = X_test.dropna(axis=0) # Drop rows with missing values\n",
        "y_test = y_test[X_test.index]\n",
        "\n",
        "\n",
        "\n"
      ],
      "metadata": {
        "id": "9-7U4r5s3xEO",
        "colab": {
          "base_uri": "https://localhost:8080/"
        },
        "outputId": "69b5235d-dd8b-4028-b4be-643dc71b0958"
      },
      "execution_count": null,
      "outputs": [
        {
          "output_type": "stream",
          "name": "stderr",
          "text": [
            "<ipython-input-7-a50ad83433dc>:7: FutureWarning: Series.__getitem__ treating keys as positions is deprecated. In a future version, integer keys will always be treated as labels (consistent with DataFrame behavior). To access a value by position, use `ser.iloc[pos]`\n",
            "  y_train = y_train[X_train.index]  # Keep corresponding target values\n",
            "<ipython-input-7-a50ad83433dc>:10: FutureWarning: Series.__getitem__ treating keys as positions is deprecated. In a future version, integer keys will always be treated as labels (consistent with DataFrame behavior). To access a value by position, use `ser.iloc[pos]`\n",
            "  y_test = y_test[X_test.index]\n"
          ]
        }
      ]
    },
    {
      "cell_type": "markdown",
      "source": [
        "# **Logistic Regression**"
      ],
      "metadata": {
        "id": "niebdK7E9W6V"
      }
    },
    {
      "cell_type": "code",
      "source": [
        "model = LogisticRegression()\n",
        "model.fit(X_train, y_train)"
      ],
      "metadata": {
        "colab": {
          "base_uri": "https://localhost:8080/",
          "height": 233
        },
        "id": "_I6X8fjj3mEB",
        "outputId": "8deb4695-a481-4734-c57b-fab5802e0179"
      },
      "execution_count": null,
      "outputs": [
        {
          "output_type": "stream",
          "name": "stderr",
          "text": [
            "/usr/local/lib/python3.10/dist-packages/sklearn/linear_model/_logistic.py:460: ConvergenceWarning: lbfgs failed to converge (status=1):\n",
            "STOP: TOTAL NO. of ITERATIONS REACHED LIMIT.\n",
            "\n",
            "Increase the number of iterations (max_iter) or scale the data as shown in:\n",
            "    https://scikit-learn.org/stable/modules/preprocessing.html\n",
            "Please also refer to the documentation for alternative solver options:\n",
            "    https://scikit-learn.org/stable/modules/linear_model.html#logistic-regression\n",
            "  n_iter_i = _check_optimize_result(\n"
          ]
        },
        {
          "output_type": "execute_result",
          "data": {
            "text/plain": [
              "LogisticRegression()"
            ],
            "text/html": [
              "<style>#sk-container-id-1 {color: black;}#sk-container-id-1 pre{padding: 0;}#sk-container-id-1 div.sk-toggleable {background-color: white;}#sk-container-id-1 label.sk-toggleable__label {cursor: pointer;display: block;width: 100%;margin-bottom: 0;padding: 0.3em;box-sizing: border-box;text-align: center;}#sk-container-id-1 label.sk-toggleable__label-arrow:before {content: \"▸\";float: left;margin-right: 0.25em;color: #696969;}#sk-container-id-1 label.sk-toggleable__label-arrow:hover:before {color: black;}#sk-container-id-1 div.sk-estimator:hover label.sk-toggleable__label-arrow:before {color: black;}#sk-container-id-1 div.sk-toggleable__content {max-height: 0;max-width: 0;overflow: hidden;text-align: left;background-color: #f0f8ff;}#sk-container-id-1 div.sk-toggleable__content pre {margin: 0.2em;color: black;border-radius: 0.25em;background-color: #f0f8ff;}#sk-container-id-1 input.sk-toggleable__control:checked~div.sk-toggleable__content {max-height: 200px;max-width: 100%;overflow: auto;}#sk-container-id-1 input.sk-toggleable__control:checked~label.sk-toggleable__label-arrow:before {content: \"▾\";}#sk-container-id-1 div.sk-estimator input.sk-toggleable__control:checked~label.sk-toggleable__label {background-color: #d4ebff;}#sk-container-id-1 div.sk-label input.sk-toggleable__control:checked~label.sk-toggleable__label {background-color: #d4ebff;}#sk-container-id-1 input.sk-hidden--visually {border: 0;clip: rect(1px 1px 1px 1px);clip: rect(1px, 1px, 1px, 1px);height: 1px;margin: -1px;overflow: hidden;padding: 0;position: absolute;width: 1px;}#sk-container-id-1 div.sk-estimator {font-family: monospace;background-color: #f0f8ff;border: 1px dotted black;border-radius: 0.25em;box-sizing: border-box;margin-bottom: 0.5em;}#sk-container-id-1 div.sk-estimator:hover {background-color: #d4ebff;}#sk-container-id-1 div.sk-parallel-item::after {content: \"\";width: 100%;border-bottom: 1px solid gray;flex-grow: 1;}#sk-container-id-1 div.sk-label:hover label.sk-toggleable__label {background-color: #d4ebff;}#sk-container-id-1 div.sk-serial::before {content: \"\";position: absolute;border-left: 1px solid gray;box-sizing: border-box;top: 0;bottom: 0;left: 50%;z-index: 0;}#sk-container-id-1 div.sk-serial {display: flex;flex-direction: column;align-items: center;background-color: white;padding-right: 0.2em;padding-left: 0.2em;position: relative;}#sk-container-id-1 div.sk-item {position: relative;z-index: 1;}#sk-container-id-1 div.sk-parallel {display: flex;align-items: stretch;justify-content: center;background-color: white;position: relative;}#sk-container-id-1 div.sk-item::before, #sk-container-id-1 div.sk-parallel-item::before {content: \"\";position: absolute;border-left: 1px solid gray;box-sizing: border-box;top: 0;bottom: 0;left: 50%;z-index: -1;}#sk-container-id-1 div.sk-parallel-item {display: flex;flex-direction: column;z-index: 1;position: relative;background-color: white;}#sk-container-id-1 div.sk-parallel-item:first-child::after {align-self: flex-end;width: 50%;}#sk-container-id-1 div.sk-parallel-item:last-child::after {align-self: flex-start;width: 50%;}#sk-container-id-1 div.sk-parallel-item:only-child::after {width: 0;}#sk-container-id-1 div.sk-dashed-wrapped {border: 1px dashed gray;margin: 0 0.4em 0.5em 0.4em;box-sizing: border-box;padding-bottom: 0.4em;background-color: white;}#sk-container-id-1 div.sk-label label {font-family: monospace;font-weight: bold;display: inline-block;line-height: 1.2em;}#sk-container-id-1 div.sk-label-container {text-align: center;}#sk-container-id-1 div.sk-container {/* jupyter's `normalize.less` sets `[hidden] { display: none; }` but bootstrap.min.css set `[hidden] { display: none !important; }` so we also need the `!important` here to be able to override the default hidden behavior on the sphinx rendered scikit-learn.org. See: https://github.com/scikit-learn/scikit-learn/issues/21755 */display: inline-block !important;position: relative;}#sk-container-id-1 div.sk-text-repr-fallback {display: none;}</style><div id=\"sk-container-id-1\" class=\"sk-top-container\"><div class=\"sk-text-repr-fallback\"><pre>LogisticRegression()</pre><b>In a Jupyter environment, please rerun this cell to show the HTML representation or trust the notebook. <br />On GitHub, the HTML representation is unable to render, please try loading this page with nbviewer.org.</b></div><div class=\"sk-container\" hidden><div class=\"sk-item\"><div class=\"sk-estimator sk-toggleable\"><input class=\"sk-toggleable__control sk-hidden--visually\" id=\"sk-estimator-id-1\" type=\"checkbox\" checked><label for=\"sk-estimator-id-1\" class=\"sk-toggleable__label sk-toggleable__label-arrow\">LogisticRegression</label><div class=\"sk-toggleable__content\"><pre>LogisticRegression()</pre></div></div></div></div></div>"
            ]
          },
          "metadata": {},
          "execution_count": 8
        }
      ]
    },
    {
      "cell_type": "code",
      "source": [
        "y_pred = model.predict(X_test)\n"
      ],
      "metadata": {
        "id": "MtSkTuw93mAc"
      },
      "execution_count": null,
      "outputs": []
    },
    {
      "cell_type": "markdown",
      "source": [
        "**Sınıflandırma Raporu**"
      ],
      "metadata": {
        "id": "rlPCFfH78I08"
      }
    },
    {
      "cell_type": "code",
      "source": [
        "# Accuracy (Doğruluk Skoru)\n",
        "accuracy = accuracy_score(y_test, y_pred)\n",
        "print(f\"Accuracy: {accuracy:.2f}\")"
      ],
      "metadata": {
        "colab": {
          "base_uri": "https://localhost:8080/"
        },
        "id": "ggM784a04hAA",
        "outputId": "d672e7e0-35a5-44cb-e21e-944b2b0f8718"
      },
      "execution_count": null,
      "outputs": [
        {
          "output_type": "stream",
          "name": "stdout",
          "text": [
            "Accuracy: 0.70\n"
          ]
        }
      ]
    },
    {
      "cell_type": "markdown",
      "source": [
        "\n",
        "\n",
        "*  Doğru sınıflandırma oranıdır.\n",
        "*  Model yüksek doğruluğa sahiptir bu da modelin çoğu örneği doğru tahmin ettiğini gösterir.\n",
        "\n"
      ],
      "metadata": {
        "id": "zZfC0cqz45S8"
      }
    },
    {
      "cell_type": "code",
      "source": [
        "# Precision (Kesinlik skoru):\n",
        "precision = precision_score(y_test, y_pred, average='macro') # Set average to 'micro', 'macro', or 'weighted'\n",
        "print(f\"Precision: {precision:.2f}\")"
      ],
      "metadata": {
        "colab": {
          "base_uri": "https://localhost:8080/"
        },
        "id": "sQNTUeYz4g1V",
        "outputId": "09e976f0-7fbe-4ca8-fc94-5c0790de1f85"
      },
      "execution_count": null,
      "outputs": [
        {
          "output_type": "stream",
          "name": "stdout",
          "text": [
            "Precision: 0.60\n"
          ]
        }
      ]
    },
    {
      "cell_type": "markdown",
      "source": [
        "\n",
        "\n",
        "*   Pozitif sınıf tahminlerinin başarı oranıdır.\n",
        "*   Model precision skoru yüksektir yani modelin pozitif tahminlerinin çoğunun doğru olduğunu gösterir.\n",
        "\n",
        "\n"
      ],
      "metadata": {
        "id": "jH8sV17x59Fe"
      }
    },
    {
      "cell_type": "code",
      "source": [
        "# Recall (Duyarlılık):\n",
        "recall = recall_score(y_test, y_pred ,average='macro')\n",
        "print(f\"Recall: {recall:.2f}\")"
      ],
      "metadata": {
        "colab": {
          "base_uri": "https://localhost:8080/"
        },
        "id": "4TkYoNBA4gqZ",
        "outputId": "92291914-48dc-4d68-e7a4-78bcef685e4d"
      },
      "execution_count": null,
      "outputs": [
        {
          "output_type": "stream",
          "name": "stdout",
          "text": [
            "Recall: 0.61\n"
          ]
        }
      ]
    },
    {
      "cell_type": "markdown",
      "source": [
        "\n",
        "\n",
        "*   Pozitif sınıfın doğru tahmin edilme oranıdır.\n",
        "*   Modelin gerçek pozitiflerin çoğunu doğru tahmin ettiğini gösterir.\n",
        "\n"
      ],
      "metadata": {
        "id": "vPAmqDm47GL2"
      }
    },
    {
      "cell_type": "code",
      "source": [
        "# F1 Score\n",
        "f1 = f1_score(y_test, y_pred,average='macro') # Set average to 'micro', 'macro', or 'weighted'\n",
        "print(f\"F1 Score: {f1:.2f}\")"
      ],
      "metadata": {
        "colab": {
          "base_uri": "https://localhost:8080/"
        },
        "id": "0SEVcET47fU2",
        "outputId": "d0230420-2817-4fa2-c973-2e2922bdd937"
      },
      "execution_count": null,
      "outputs": [
        {
          "output_type": "stream",
          "name": "stdout",
          "text": [
            "F1 Score: 0.59\n"
          ]
        }
      ]
    },
    {
      "cell_type": "markdown",
      "source": [
        "\n",
        "\n",
        "*   Precision ve recall değerlerinin harmonik ortalamasıdır. Dengeli bir performans ölçütüdür.\n",
        "*   Model yüksek bir F1 score değerine sahiptir. Bu da modelin iyi bir denge kurduğunu gösterir.\n",
        "\n"
      ],
      "metadata": {
        "id": "EvSo9Xff7tJs"
      }
    },
    {
      "cell_type": "code",
      "source": [
        "# Değerler toplu olarak görülmek istenirse :\n",
        "class_report = classification_report(y_test, y_pred)\n",
        "print(\"Classification Report:\")\n",
        "print(class_report)\n"
      ],
      "metadata": {
        "colab": {
          "base_uri": "https://localhost:8080/"
        },
        "id": "5SnZkwrx8EJa",
        "outputId": "b45a5a42-5fd2-485e-f558-55a1dff78eb2"
      },
      "execution_count": null,
      "outputs": [
        {
          "output_type": "stream",
          "name": "stdout",
          "text": [
            "Classification Report:\n",
            "              precision    recall  f1-score   support\n",
            "\n",
            "       1-300       0.76      0.88      0.82        83\n",
            "   1001-1400       0.73      0.79      0.76       108\n",
            "       1401+       0.12      0.03      0.05        30\n",
            "     301-600       0.75      0.50      0.60        96\n",
            "    601-1000       0.63      0.85      0.72        89\n",
            "\n",
            "    accuracy                           0.70       406\n",
            "   macro avg       0.60      0.61      0.59       406\n",
            "weighted avg       0.67      0.70      0.67       406\n",
            "\n"
          ]
        }
      ]
    },
    {
      "cell_type": "markdown",
      "source": [
        "*SINIF PERFORMANSLARI*\n",
        "\n",
        "**Sınıf 1-300 :**\n",
        "\n",
        "\n",
        "*   **Precision (0.76):** Modelin, sınıf 1-300 olarak tahmin ettiği örneklerin %76'sı gerçekten sınıf 1-300.\n",
        "*   **Recall (0.88):** Gerçekten sınıf 1-300 olan örneklerin %88'i doğru olarak sınıf 1-300 olarak tahmin edilmiş.\n",
        "*   **F1-Score (0.82):** Precision ve Recall'un dengeli bir ölçümü. Yüksek bir değer, modelin bu sınıfta iyi performans gösterdiğini belirtir.\n",
        "*   **Support (83):** Veri setinde 83 tane gerçek sınıf 1-300 örneği var.\n",
        "\n",
        "**Sınıf 1001-1400 :**\n",
        "\n",
        "\n",
        "*   **Precision (0.73):** Modelin, sınıf 1001-1400 olarak tahmin ettiği örneklerin %73'ü gerçekten sınıf 1-300.\n",
        "*   **Recall (0.79):** Gerçekten sınıf 1001-1400 olan örneklerin %79'u doğru olarak sınıf 1001-1400 olarak tahmin edilmiş.\n",
        "*   **F1-Score (0.76):** Bu sınıf için de iyi bir performansı işaret eder.\n",
        "*   **Support (108):** Veri setinde 108 tane gerçek sınıf 1001-1400 örneği var.\n",
        "\n",
        "**Sınıf 1401+ :**\n",
        "\n",
        "\n",
        "*   **Precision (0.12):** Modelin, sınıf 1401+ olarak tahmin ettiği örneklerin %12'si gerçekten sınıf 1401+.\n",
        "*   **Recall (0.03):** Gerçekten sınıf 1401+ olan örneklerin %3'ü doğru olarak sınıf 301-600 olarak tahmin edilmiş.\n",
        "*   **F1-Score (0.05):** Bu sınıf için de iyi bir performansı işaret eder.\n",
        "*   **Support (30):** Veri setinde 30 tane gerçek sınıf 1401+ örneği var.\n",
        "\n",
        "**Sınıf 301-600 :**\n",
        "\n",
        "\n",
        "*   **Precision (0.75):** Modelin, sınıf 301-600 olarak tahmin ettiği örneklerin %75'i gerçekten sınıf 301-600.\n",
        "*   **Recall (0.50):** Gerçekten sınıf 301-600 olan örneklerin %50'si doğru olarak sınıf 1401+ olarak tahmin edilmiş.\n",
        "*   **F1-Score (0.60):** Düşük bir değerdir , model bu sınıfta iyi bir performans göstermemiştir.\n",
        "*   **Support (96):** Veri setinde 96 tane gerçek sınıf 301-600 örneği var.\n",
        "\n",
        "**Sınıf 601-1000 :**\n",
        "\n",
        "\n",
        "*   **Precision (0.63):** Modelin, sınıf 601-1000 olarak tahmin ettiği örneklerin %63'ü gerçekten sınıf 601-1000.\n",
        "*   **Recall (0.85):** Gerçekten sınıf 601-1000 olan örneklerin %85'i doğru olarak sınıf 601-1000 olarak tahmin edilmiş.\n",
        "*   **F1-Score (0.72):** Bu sınıf için de iyi bir performansı işaret eder.\n",
        "*   **Support (89):** Veri setinde 89 tane gerçek sınıf 601-1000 örneği var.\n",
        "\n",
        "\n",
        "\n",
        "\n",
        "\n"
      ],
      "metadata": {
        "id": "fYtRIy7hBMBh"
      }
    },
    {
      "cell_type": "markdown",
      "source": [
        "*GENEL PERFORMANS*\n",
        "\n",
        "**Accuracy (0.70):** Modelin genel doğruluğu %70. Yani, model tüm test örneklerinin %70'ini doğru sınıflandırmış.\n",
        "\n",
        "**Macro Average:**\n",
        "\n",
        "**Precision (0.60):** Üç sınıfın precision değerlerinin ortalaması.\n",
        "\n",
        "**Recall (0.61):** Üç sınıfın recall değerlerinin ortalaması.\n",
        "\n",
        "**F1-Score (0.59):** Üç sınıfın f1-score değerlerinin ortalaması.\n",
        "\n",
        "Macro average, tüm sınıfların eşit ağırlıkta olduğunu varsayar ve bu nedenle sınıfların destek değerlerine bakılmaksızın bir ortalama alır.\n",
        "\n",
        "**Weighted Average:**\n",
        "\n",
        "**Precision (0.67):** Precision değerlerinin, her sınıfın destek değeri ile ağırlıklandırılmış ortalaması.\n",
        "\n",
        "**Recall (0.70):** Recall değerlerinin, her sınıfın destek değeri ile ağırlıklandırılmış ortalaması.\n",
        "\n",
        "**F1-Score (0.67):** F1-score değerlerinin, her sınıfın destek değeri ile ağırlıklandırılmış ortalaması.\n",
        "\n",
        "Weighted average, her sınıfın örnek sayısına (destek) göre ağırlıklandırılmış ortalamayı ifade eder ve genellikle genel model performansını daha iyi yansıtır."
      ],
      "metadata": {
        "id": "k-G8HT1nFSe8"
      }
    },
    {
      "cell_type": "markdown",
      "source": [
        "ÖZET\n",
        "\n",
        "\n",
        "*   Sınıf 1-300: Çok iyi bir performansa sahip.\n",
        "\n",
        "*   Sınıf 1001-1400: İyi bir performans gösteriyor, ancak precision sınıf 1-300 ve 301-600'e göre biraz daha düşük.\n",
        "\n",
        "*   Sınıf 1401+: Düşük bir performans gösteriyor, precision diğer sınıflara göre çok daha düşük.\n",
        "*   Sınıf 301-600 :İyi bir performans gösteriyor, ancak precision sınıf 1-300'e göre biraz daha düşük.\n",
        "\n",
        "\n",
        "*   Sınıf 601-1000 :Makul bir performans gösteriyor, ancak precision diğer sınıflara göre daha düşük.\n",
        "\n",
        "\n",
        "Genel Doğruluk: %70, bu modelin genel olarak iyi performans gösterdiğini gösterir."
      ],
      "metadata": {
        "id": "gKljQLOcJHJk"
      }
    },
    {
      "cell_type": "code",
      "source": [
        "# Karışıklık Matrisi\n",
        "conf_matrix = confusion_matrix(y_test, y_pred)\n",
        "print(\"Confusion Matrix:\")\n",
        "print(conf_matrix)\n",
        "\n",
        "# Karışıklık Matrisini Görselleştirme\n",
        "sns.heatmap(conf_matrix, annot=True, fmt='d', cmap='Blues')\n",
        "plt.xlabel('Predicted')\n",
        "plt.ylabel('Actual')\n",
        "plt.title('Confusion Matrix')\n",
        "plt.show()\n"
      ],
      "metadata": {
        "colab": {
          "base_uri": "https://localhost:8080/",
          "height": 576
        },
        "id": "q-pcuCVJ3l9M",
        "outputId": "2b47b1e8-c2ba-49d7-d1bf-b59709bfd7a6"
      },
      "execution_count": null,
      "outputs": [
        {
          "output_type": "stream",
          "name": "stdout",
          "text": [
            "Confusion Matrix:\n",
            "[[73  0  0 10  0]\n",
            " [ 0 85  4  0 19]\n",
            " [ 0 29  1  0  0]\n",
            " [22  0  0 48 26]\n",
            " [ 1  3  3  6 76]]\n"
          ]
        },
        {
          "output_type": "display_data",
          "data": {
            "text/plain": [
              "<Figure size 640x480 with 2 Axes>"
            ],
            "image/png": "[encoded data removed]"
          },
          "metadata": {}
        }
      ]
    },
    {
      "cell_type": "code",
      "source": [
        "# ROC ve AUC (Receiver Operating Characteristic ve Area Under the Curve)\n",
        "\n",
        "# Assuming 'y_test' and 'y_pred' are multiclass\n",
        "from sklearn.preprocessing import label_binarize\n",
        "from sklearn.metrics import roc_curve, auc\n",
        "\n",
        "# Binarize the output\n",
        "y_test_bin = label_binarize(y_test, classes=np.unique(y_test))\n",
        "n_classes = y_test_bin.shape[1]\n",
        "\n",
        "y_prob = model.predict_proba(X_test)\n",
        "\n",
        "# Compute ROC curve and ROC area for each class\n",
        "fpr = dict()\n",
        "tpr = dict()\n",
        "roc_auc = dict()\n",
        "for i in range(n_classes):\n",
        "    fpr[i], tpr[i], _ = roc_curve(y_test_bin[:, i], y_prob[:, i])\n",
        "    roc_auc[i] = auc(fpr[i], tpr[i])\n",
        "\n",
        "# Plot ROC curves for each class\n",
        "plt.figure()\n",
        "for i in range(n_classes):\n",
        "    plt.plot(fpr[i], tpr[i], lw=2, label='ROC curve (area = %0.2f)' % roc_auc[i])\n",
        "plt.plot([0, 1], [0, 1], color='navy', lw=2, linestyle='--')\n",
        "plt.xlim([0.0, 1.0])\n",
        "plt.ylim([0.0, 1.05])\n",
        "plt.xlabel('False Positive Rate')\n",
        "plt.ylabel('True Positive Rate')\n",
        "plt.title('Receiver Operating Characteristic')\n",
        "plt.legend(loc=\"lower right\")\n",
        "plt.show()\n",
        "\n",
        "# Print micro-averaged ROC AUC score\n",
        "from sklearn.metrics import roc_auc_score\n",
        "y_prob_micro = model.predict_proba(X_test)\n",
        "roc_auc_micro = roc_auc_score(y_test, y_prob_micro, multi_class='ovr', average='micro')\n",
        "print(f\"Micro-averaged ROC AUC: {roc_auc_micro:.2f}\")"
      ],
      "metadata": {
        "colab": {
          "base_uri": "https://localhost:8080/",
          "height": 489
        },
        "id": "x14Qi4ms3l7e",
        "outputId": "f30e6432-a38a-4acd-e97a-5423f4ff855c"
      },
      "execution_count": null,
      "outputs": [
        {
          "output_type": "display_data",
          "data": {
            "text/plain": [
              "<Figure size 640x480 with 1 Axes>"
            ],
            "image/png": "[encoded data removed]"
          },
          "metadata": {}
        },
        {
          "output_type": "stream",
          "name": "stdout",
          "text": [
            "Micro-averaged ROC AUC: 0.90\n"
          ]
        }
      ]
    },
    {
      "cell_type": "markdown",
      "source": [
        "AUC değeri 0.90 çıkmıştır yani modelin sınıflandırma performansının iyi olduğunu gösterir."
      ],
      "metadata": {
        "id": "OTrfJ8mj868w"
      }
    },
    {
      "cell_type": "markdown",
      "source": [
        "# **Sınıflandırma için KNN Yöntemi**"
      ],
      "metadata": {
        "id": "w5wTKFZB-PaJ"
      }
    },
    {
      "cell_type": "code",
      "source": [
        "# Özellikleri ölçekleme\n",
        "scaler = StandardScaler()\n",
        "X_train = scaler.fit_transform(X_train)\n",
        "X_test = scaler.transform(X_test)"
      ],
      "metadata": {
        "id": "JxH16ZFvLqKC"
      },
      "execution_count": null,
      "outputs": []
    },
    {
      "cell_type": "code",
      "source": [
        "# KNN modelini oluşturma ve hiperparametre ayarları\n",
        "knn = KNeighborsClassifier()\n",
        "param_grid = {'n_neighbors': np.arange(1, 31), 'metric': ['euclidean', 'manhattan']}\n",
        "grid_search = GridSearchCV(knn, param_grid, cv=5)"
      ],
      "metadata": {
        "id": "5NSOfEt5LqHN"
      },
      "execution_count": null,
      "outputs": []
    },
    {
      "cell_type": "code",
      "source": [
        "# Modeli eğitim verisi ile eğitme\n",
        "grid_search.fit(X_train, y_train)"
      ],
      "metadata": {
        "colab": {
          "base_uri": "https://localhost:8080/",
          "height": 116
        },
        "id": "mDnjhHENLqC7",
        "outputId": "62b7e77f-b6e8-461d-bdcc-1b9d6dab1791"
      },
      "execution_count": null,
      "outputs": [
        {
          "output_type": "execute_result",
          "data": {
            "text/plain": [
              "GridSearchCV(cv=5, estimator=KNeighborsClassifier(),\n",
              "             param_grid={'metric': ['euclidean', 'manhattan'],\n",
              "                         'n_neighbors': array([ 1,  2,  3,  4,  5,  6,  7,  8,  9, 10, 11, 12, 13, 14, 15, 16, 17,\n",
              "       18, 19, 20, 21, 22, 23, 24, 25, 26, 27, 28, 29, 30])})"
            ],
            "text/html": [
              "<style>#sk-container-id-2 {color: black;}#sk-container-id-2 pre{padding: 0;}#sk-container-id-2 div.sk-toggleable {background-color: white;}#sk-container-id-2 label.sk-toggleable__label {cursor: pointer;display: block;width: 100%;margin-bottom: 0;padding: 0.3em;box-sizing: border-box;text-align: center;}#sk-container-id-2 label.sk-toggleable__label-arrow:before {content: \"▸\";float: left;margin-right: 0.25em;color: #696969;}#sk-container-id-2 label.sk-toggleable__label-arrow:hover:before {color: black;}#sk-container-id-2 div.sk-estimator:hover label.sk-toggleable__label-arrow:before {color: black;}#sk-container-id-2 div.sk-toggleable__content {max-height: 0;max-width: 0;overflow: hidden;text-align: left;background-color: #f0f8ff;}#sk-container-id-2 div.sk-toggleable__content pre {margin: 0.2em;color: black;border-radius: 0.25em;background-color: #f0f8ff;}#sk-container-id-2 input.sk-toggleable__control:checked~div.sk-toggleable__content {max-height: 200px;max-width: 100%;overflow: auto;}#sk-container-id-2 input.sk-toggleable__control:checked~label.sk-toggleable__label-arrow:before {content: \"▾\";}#sk-container-id-2 div.sk-estimator input.sk-toggleable__control:checked~label.sk-toggleable__label {background-color: #d4ebff;}#sk-container-id-2 div.sk-label input.sk-toggleable__control:checked~label.sk-toggleable__label {background-color: #d4ebff;}#sk-container-id-2 input.sk-hidden--visually {border: 0;clip: rect(1px 1px 1px 1px);clip: rect(1px, 1px, 1px, 1px);height: 1px;margin: -1px;overflow: hidden;padding: 0;position: absolute;width: 1px;}#sk-container-id-2 div.sk-estimator {font-family: monospace;background-color: #f0f8ff;border: 1px dotted black;border-radius: 0.25em;box-sizing: border-box;margin-bottom: 0.5em;}#sk-container-id-2 div.sk-estimator:hover {background-color: #d4ebff;}#sk-container-id-2 div.sk-parallel-item::after {content: \"\";width: 100%;border-bottom: 1px solid gray;flex-grow: 1;}#sk-container-id-2 div.sk-label:hover label.sk-toggleable__label {background-color: #d4ebff;}#sk-container-id-2 div.sk-serial::before {content: \"\";position: absolute;border-left: 1px solid gray;box-sizing: border-box;top: 0;bottom: 0;left: 50%;z-index: 0;}#sk-container-id-2 div.sk-serial {display: flex;flex-direction: column;align-items: center;background-color: white;padding-right: 0.2em;padding-left: 0.2em;position: relative;}#sk-container-id-2 div.sk-item {position: relative;z-index: 1;}#sk-container-id-2 div.sk-parallel {display: flex;align-items: stretch;justify-content: center;background-color: white;position: relative;}#sk-container-id-2 div.sk-item::before, #sk-container-id-2 div.sk-parallel-item::before {content: \"\";position: absolute;border-left: 1px solid gray;box-sizing: border-box;top: 0;bottom: 0;left: 50%;z-index: -1;}#sk-container-id-2 div.sk-parallel-item {display: flex;flex-direction: column;z-index: 1;position: relative;background-color: white;}#sk-container-id-2 div.sk-parallel-item:first-child::after {align-self: flex-end;width: 50%;}#sk-container-id-2 div.sk-parallel-item:last-child::after {align-self: flex-start;width: 50%;}#sk-container-id-2 div.sk-parallel-item:only-child::after {width: 0;}#sk-container-id-2 div.sk-dashed-wrapped {border: 1px dashed gray;margin: 0 0.4em 0.5em 0.4em;box-sizing: border-box;padding-bottom: 0.4em;background-color: white;}#sk-container-id-2 div.sk-label label {font-family: monospace;font-weight: bold;display: inline-block;line-height: 1.2em;}#sk-container-id-2 div.sk-label-container {text-align: center;}#sk-container-id-2 div.sk-container {/* jupyter's `normalize.less` sets `[hidden] { display: none; }` but bootstrap.min.css set `[hidden] { display: none !important; }` so we also need the `!important` here to be able to override the default hidden behavior on the sphinx rendered scikit-learn.org. See: https://github.com/scikit-learn/scikit-learn/issues/21755 */display: inline-block !important;position: relative;}#sk-container-id-2 div.sk-text-repr-fallback {display: none;}</style><div id=\"sk-container-id-2\" class=\"sk-top-container\"><div class=\"sk-text-repr-fallback\"><pre>GridSearchCV(cv=5, estimator=KNeighborsClassifier(),\n",
              "             param_grid={&#x27;metric&#x27;: [&#x27;euclidean&#x27;, &#x27;manhattan&#x27;],\n",
              "                         &#x27;n_neighbors&#x27;: array([ 1,  2,  3,  4,  5,  6,  7,  8,  9, 10, 11, 12, 13, 14, 15, 16, 17,\n",
              "       18, 19, 20, 21, 22, 23, 24, 25, 26, 27, 28, 29, 30])})</pre><b>In a Jupyter environment, please rerun this cell to show the HTML representation or trust the notebook. <br />On GitHub, the HTML representation is unable to render, please try loading this page with nbviewer.org.</b></div><div class=\"sk-container\" hidden><div class=\"sk-item sk-dashed-wrapped\"><div class=\"sk-label-container\"><div class=\"sk-label sk-toggleable\"><input class=\"sk-toggleable__control sk-hidden--visually\" id=\"sk-estimator-id-2\" type=\"checkbox\" ><label for=\"sk-estimator-id-2\" class=\"sk-toggleable__label sk-toggleable__label-arrow\">GridSearchCV</label><div class=\"sk-toggleable__content\"><pre>GridSearchCV(cv=5, estimator=KNeighborsClassifier(),\n",
              "             param_grid={&#x27;metric&#x27;: [&#x27;euclidean&#x27;, &#x27;manhattan&#x27;],\n",
              "                         &#x27;n_neighbors&#x27;: array([ 1,  2,  3,  4,  5,  6,  7,  8,  9, 10, 11, 12, 13, 14, 15, 16, 17,\n",
              "       18, 19, 20, 21, 22, 23, 24, 25, 26, 27, 28, 29, 30])})</pre></div></div></div><div class=\"sk-parallel\"><div class=\"sk-parallel-item\"><div class=\"sk-item\"><div class=\"sk-label-container\"><div class=\"sk-label sk-toggleable\"><input class=\"sk-toggleable__control sk-hidden--visually\" id=\"sk-estimator-id-3\" type=\"checkbox\" ><label for=\"sk-estimator-id-3\" class=\"sk-toggleable__label sk-toggleable__label-arrow\">estimator: KNeighborsClassifier</label><div class=\"sk-toggleable__content\"><pre>KNeighborsClassifier()</pre></div></div></div><div class=\"sk-serial\"><div class=\"sk-item\"><div class=\"sk-estimator sk-toggleable\"><input class=\"sk-toggleable__control sk-hidden--visually\" id=\"sk-estimator-id-4\" type=\"checkbox\" ><label for=\"sk-estimator-id-4\" class=\"sk-toggleable__label sk-toggleable__label-arrow\">KNeighborsClassifier</label><div class=\"sk-toggleable__content\"><pre>KNeighborsClassifier()</pre></div></div></div></div></div></div></div></div></div></div>"
            ]
          },
          "metadata": {},
          "execution_count": 21
        }
      ]
    },
    {
      "cell_type": "code",
      "source": [
        "# En iyi parametreleri ve modeli bulma\n",
        "best_knn = grid_search.best_estimator_\n",
        "print(best_knn)"
      ],
      "metadata": {
        "colab": {
          "base_uri": "https://localhost:8080/"
        },
        "id": "IEx1_SviLqAL",
        "outputId": "51177122-b2c1-4699-e91f-cf07f2ef9d0c"
      },
      "execution_count": null,
      "outputs": [
        {
          "output_type": "stream",
          "name": "stdout",
          "text": [
            "KNeighborsClassifier(metric='euclidean', n_neighbors=1)\n"
          ]
        }
      ]
    },
    {
      "cell_type": "code",
      "source": [
        "# Test verisi ile tahmin yapma\n",
        "y_pred = best_knn.predict(X_test)"
      ],
      "metadata": {
        "id": "UYYEx3PDLp9Q"
      },
      "execution_count": null,
      "outputs": []
    },
    {
      "cell_type": "code",
      "source": [
        "# Adım 1: Doğruluk (Accuracy)\n",
        "accuracy = accuracy_score(y_test, y_pred)\n",
        "print(f'Doğruluk: {accuracy}')"
      ],
      "metadata": {
        "colab": {
          "base_uri": "https://localhost:8080/"
        },
        "id": "0v_xLWdgMt-9",
        "outputId": "57b862bd-3f2f-4a18-8e11-2193311fe1d6"
      },
      "execution_count": null,
      "outputs": [
        {
          "output_type": "stream",
          "name": "stdout",
          "text": [
            "Doğruluk: 0.8423645320197044\n"
          ]
        }
      ]
    },
    {
      "cell_type": "code",
      "source": [
        "# Adım 2: Karışıklık Matrisi (Confusion Matrix)\n",
        "conf_matrix = confusion_matrix(y_test, y_pred)\n",
        "print(f'Karışıklık Matrisi:\\n{conf_matrix}')\n",
        "\n",
        "# Karışıklık Matrisini Görselleştirme\n",
        "sns.heatmap(conf_matrix, annot=True, fmt='d', cmap='Blues')\n",
        "plt.xlabel('Predicted')\n",
        "plt.ylabel('Actual')\n",
        "plt.title('Confusion Matrix')\n",
        "plt.show()"
      ],
      "metadata": {
        "colab": {
          "base_uri": "https://localhost:8080/",
          "height": 576
        },
        "id": "oblPpbZ8My0_",
        "outputId": "8b447e40-f4c0-4efe-91be-4444e733dda7"
      },
      "execution_count": null,
      "outputs": [
        {
          "output_type": "stream",
          "name": "stdout",
          "text": [
            "Karışıklık Matrisi:\n",
            "[[75  0  0  8  0]\n",
            " [ 0 96  4  0  8]\n",
            " [ 0  4 26  0  0]\n",
            " [ 5  0  0 69 22]\n",
            " [ 0  9  0  4 76]]\n"
          ]
        },
        {
          "output_type": "display_data",
          "data": {
            "text/plain": [
              "<Figure size 640x480 with 2 Axes>"
            ],
            "image/png": "[encoded data removed]"
          },
          "metadata": {}
        }
      ]
    },
    {
      "cell_type": "code",
      "source": [
        "# Sınıflandırma Raporu\n",
        "report = classification_report(y_test, y_pred)\n",
        "print(f'Sınıflandırma Raporu:\\n{report}')"
      ],
      "metadata": {
        "colab": {
          "base_uri": "https://localhost:8080/"
        },
        "id": "f5zrE3vLLp65",
        "outputId": "f144a43b-c9f4-4363-c8fc-92a73d0a7478"
      },
      "execution_count": null,
      "outputs": [
        {
          "output_type": "stream",
          "name": "stdout",
          "text": [
            "Sınıflandırma Raporu:\n",
            "              precision    recall  f1-score   support\n",
            "\n",
            "       1-300       0.94      0.90      0.92        83\n",
            "   1001-1400       0.88      0.89      0.88       108\n",
            "       1401+       0.87      0.87      0.87        30\n",
            "     301-600       0.85      0.72      0.78        96\n",
            "    601-1000       0.72      0.85      0.78        89\n",
            "\n",
            "    accuracy                           0.84       406\n",
            "   macro avg       0.85      0.85      0.85       406\n",
            "weighted avg       0.85      0.84      0.84       406\n",
            "\n"
          ]
        }
      ]
    },
    {
      "cell_type": "markdown",
      "source": [
        "*GENEL PERFORMANS*\n",
        "\n",
        "**Accuracy (0.84):** Modelin genel doğruluğu %84. Yani, model tüm test örneklerinin %84'ünü doğru sınıflandırmış.\n"
      ],
      "metadata": {
        "id": "kO6a8ZDeOXCk"
      }
    },
    {
      "cell_type": "markdown",
      "source": [
        "# **Cat Boost**"
      ],
      "metadata": {
        "id": "YGhg0MrpPd28"
      }
    },
    {
      "cell_type": "code",
      "source": [
        "!pip install catboost\n",
        "!pip install lightgbm\n",
        "!pip install xgboost"
      ],
      "metadata": {
        "colab": {
          "base_uri": "https://localhost:8080/"
        },
        "collapsed": true,
        "id": "ZS7yaLNhMvs_",
        "outputId": "e5af05a7-ca3b-4f58-cc59-55561f1d7c0b"
      },
      "execution_count": null,
      "outputs": [
        {
          "output_type": "stream",
          "name": "stdout",
          "text": [
            "Requirement already satisfied: catboost in /usr/local/lib/python3.10/dist-packages (1.2.5)\n",
            "Requirement already satisfied: graphviz in /usr/local/lib/python3.10/dist-packages (from catboost) (0.20.3)\n",
            "Requirement already satisfied: matplotlib in /usr/local/lib/python3.10/dist-packages (from catboost) (3.7.1)\n",
            "Requirement already satisfied: numpy>=1.16.0 in /usr/local/lib/python3.10/dist-packages (from catboost) (1.26.4)\n",
            "Requirement already satisfied: pandas>=0.24 in /usr/local/lib/python3.10/dist-packages (from catboost) (2.1.4)\n",
            "Requirement already satisfied: scipy in /usr/local/lib/python3.10/dist-packages (from catboost) (1.13.1)\n",
            "Requirement already satisfied: plotly in /usr/local/lib/python3.10/dist-packages (from catboost) (5.15.0)\n",
            "Requirement already satisfied: six in /usr/local/lib/python3.10/dist-packages (from catboost) (1.16.0)\n",
            "Requirement already satisfied: python-dateutil>=2.8.2 in /usr/local/lib/python3.10/dist-packages (from pandas>=0.24->catboost) (2.8.2)\n",
            "Requirement already satisfied: pytz>=2020.1 in /usr/local/lib/python3.10/dist-packages (from pandas>=0.24->catboost) (2024.1)\n",
            "Requirement already satisfied: tzdata>=2022.1 in /usr/local/lib/python3.10/dist-packages (from pandas>=0.24->catboost) (2024.1)\n",
            "Requirement already satisfied: contourpy>=1.0.1 in /usr/local/lib/python3.10/dist-packages (from matplotlib->catboost) (1.2.1)\n",
            "Requirement already satisfied: cycler>=0.10 in /usr/local/lib/python3.10/dist-packages (from matplotlib->catboost) (0.12.1)\n",
            "Requirement already satisfied: fonttools>=4.22.0 in /usr/local/lib/python3.10/dist-packages (from matplotlib->catboost) (4.53.1)\n",
            "Requirement already satisfied: kiwisolver>=1.0.1 in /usr/local/lib/python3.10/dist-packages (from matplotlib->catboost) (1.4.5)\n",
            "Requirement already satisfied: packaging>=20.0 in /usr/local/lib/python3.10/dist-packages (from matplotlib->catboost) (24.1)\n",
            "Requirement already satisfied: pillow>=6.2.0 in /usr/local/lib/python3.10/dist-packages (from matplotlib->catboost) (9.4.0)\n",
            "Requirement already satisfied: pyparsing>=2.3.1 in /usr/local/lib/python3.10/dist-packages (from matplotlib->catboost) (3.1.2)\n",
            "Requirement already satisfied: tenacity>=6.2.0 in /usr/local/lib/python3.10/dist-packages (from plotly->catboost) (9.0.0)\n",
            "Requirement already satisfied: lightgbm in /usr/local/lib/python3.10/dist-packages (4.4.0)\n",
            "Requirement already satisfied: numpy>=1.17.0 in /usr/local/lib/python3.10/dist-packages (from lightgbm) (1.26.4)\n",
            "Requirement already satisfied: scipy in /usr/local/lib/python3.10/dist-packages (from lightgbm) (1.13.1)\n",
            "Requirement already satisfied: xgboost in /usr/local/lib/python3.10/dist-packages (2.1.0)\n",
            "Requirement already satisfied: numpy in /usr/local/lib/python3.10/dist-packages (from xgboost) (1.26.4)\n",
            "Requirement already satisfied: nvidia-nccl-cu12 in /usr/local/lib/python3.10/dist-packages (from xgboost) (2.22.3)\n",
            "Requirement already satisfied: scipy in /usr/local/lib/python3.10/dist-packages (from xgboost) (1.13.1)\n"
          ]
        }
      ]
    },
    {
      "cell_type": "code",
      "source": [
        "from sklearn.ensemble import GradientBoostingClassifier , RandomForestClassifier,VotingClassifier\n",
        "from sklearn.model_selection import cross_validate, GridSearchCV, RandomizedSearchCV,validation_curve\n",
        "from catboost import CatBoostClassifier, Pool\n",
        "from sklearn.model_selection import learning_curve\n",
        "from xgboost import XGBClassifier\n",
        "from lightgbm import LGBMClassifier\n",
        "from catboost import CatBoostClassifier"
      ],
      "metadata": {
        "id": "2_MMZ3ET3lyS"
      },
      "execution_count": null,
      "outputs": []
    },
    {
      "cell_type": "code",
      "source": [
        "catboost_model = CatBoostClassifier(random_state=17, verbose=False)"
      ],
      "metadata": {
        "id": "4YygDQLaNQqm"
      },
      "execution_count": null,
      "outputs": []
    },
    {
      "cell_type": "code",
      "source": [
        "# Özellik önem düzeylerini elde etme\n",
        "feature_importances = model.get_feature_importance(Pool(X_train, label=y_train))\n",
        "\n",
        "# Assuming 'X' is your original DataFrame\n",
        "feature_names = X.columns"
      ],
      "metadata": {
        "id": "s6w0xrO23x-c"
      },
      "execution_count": null,
      "outputs": []
    },
    {
      "cell_type": "code",
      "source": [
        "# Özellik önem düzeylerini görselleştirme\n",
        "plt.figure(figsize=(10, 8))\n",
        "plt.barh(feature_names, feature_importances)\n",
        "plt.xlabel('Özellik Önem Düzeyi')\n",
        "plt.title('Özellik Önem Düzeyleri')\n",
        "plt.show()"
      ],
      "metadata": {
        "colab": {
          "base_uri": "https://localhost:8080/",
          "height": 552
        },
        "id": "2lRF3ifZ4CJb",
        "outputId": "5beb2f8c-87d6-4046-c500-1d1857bf075b"
      },
      "execution_count": null,
      "outputs": [
        {
          "output_type": "display_data",
          "data": {
            "text/plain": [
              "<Figure size 1000x800 with 1 Axes>"
            ],
            "image/png": "[encoded data removed]"
          },
          "metadata": {}
        }
      ]
    },
    {
      "cell_type": "code",
      "source": [
        "cv_results = cross_validate(catboost_model, X_train, y_train, cv=5, scoring=['accuracy','f1_macro', 'roc_auc_ovr'])"
      ],
      "metadata": {
        "id": "hDMSpvvBNQnM"
      },
      "execution_count": null,
      "outputs": []
    },
    {
      "cell_type": "code",
      "source": [
        "cv_results['test_accuracy'].mean()"
      ],
      "metadata": {
        "colab": {
          "base_uri": "https://localhost:8080/"
        },
        "id": "vYC2Xo-NNQlD",
        "outputId": "a8018137-96f8-499b-8522-5418ab499a90"
      },
      "execution_count": null,
      "outputs": [
        {
          "output_type": "execute_result",
          "data": {
            "text/plain": [
              "0.8893511250654107"
            ]
          },
          "metadata": {},
          "execution_count": 146
        }
      ]
    },
    {
      "cell_type": "code",
      "source": [
        "cv_results['test_f1_macro'].mean()"
      ],
      "metadata": {
        "colab": {
          "base_uri": "https://localhost:8080/"
        },
        "id": "KfLoL8M2NQjC",
        "outputId": "37cff270-8eca-4287-a199-413892285786"
      },
      "execution_count": null,
      "outputs": [
        {
          "output_type": "execute_result",
          "data": {
            "text/plain": [
              "0.8796233942426447"
            ]
          },
          "metadata": {},
          "execution_count": 147
        }
      ]
    },
    {
      "cell_type": "code",
      "source": [
        "cv_results['test_roc_auc_ovr'].mean()"
      ],
      "metadata": {
        "colab": {
          "base_uri": "https://localhost:8080/"
        },
        "id": "_WmDHiyeN_yL",
        "outputId": "6f39af84-41e8-48d7-ebc8-62df59489e01"
      },
      "execution_count": null,
      "outputs": [
        {
          "output_type": "execute_result",
          "data": {
            "text/plain": [
              "0.9895582384317502"
            ]
          },
          "metadata": {},
          "execution_count": 148
        }
      ]
    },
    {
      "cell_type": "code",
      "source": [
        "catboost_params = {\n",
        "    'iterations': [200, 500],\n",
        "    'learning_rate': [0.01, 0.1],\n",
        "    'depth': [3, 6]\n",
        "}"
      ],
      "metadata": {
        "id": "8-GWqXkXOBUb"
      },
      "execution_count": null,
      "outputs": []
    },
    {
      "cell_type": "code",
      "source": [
        "catboost_best_grid = GridSearchCV(catboost_model, catboost_params, cv=3, n_jobs=-1, verbose=2).fit(X_train, y_train)"
      ],
      "metadata": {
        "colab": {
          "base_uri": "https://localhost:8080/"
        },
        "id": "vjdA42orNQg6",
        "outputId": "b5cef2f0-eb01-4ff8-ea5d-491dfc40a666"
      },
      "execution_count": null,
      "outputs": [
        {
          "output_type": "stream",
          "name": "stdout",
          "text": [
            "Fitting 3 folds for each of 8 candidates, totalling 24 fits\n"
          ]
        }
      ]
    },
    {
      "cell_type": "code",
      "source": [
        "catboost_best_grid.best_params_\n"
      ],
      "metadata": {
        "colab": {
          "base_uri": "https://localhost:8080/"
        },
        "id": "cUIso1ecPBBN",
        "outputId": "368ea65d-2396-4dbc-f08d-7d81e5605ef5"
      },
      "execution_count": null,
      "outputs": [
        {
          "output_type": "execute_result",
          "data": {
            "text/plain": [
              "{'depth': 6, 'iterations': 500, 'learning_rate': 0.1}"
            ]
          },
          "metadata": {},
          "execution_count": 151
        }
      ]
    },
    {
      "cell_type": "code",
      "source": [
        "# Final modeli:\n",
        "catboost_final=catboost_model.set_params(**catboost_best_grid.best_params_, random_state=17).fit(X_train, y_train)"
      ],
      "metadata": {
        "id": "XYL-NI4sNQe3"
      },
      "execution_count": null,
      "outputs": []
    },
    {
      "cell_type": "code",
      "source": [
        "cv_results = cross_validate(catboost_final, X_train, y_train, cv=5, scoring=['accuracy','f1_macro', 'roc_auc_ovr'])"
      ],
      "metadata": {
        "id": "6AmtrsTZOy5B"
      },
      "execution_count": null,
      "outputs": []
    },
    {
      "cell_type": "code",
      "source": [
        "cv_results['test_accuracy'].mean()"
      ],
      "metadata": {
        "colab": {
          "base_uri": "https://localhost:8080/"
        },
        "id": "BJKPla-nNQb3",
        "outputId": "90260832-6b50-4f69-8a84-441d6ebb742a"
      },
      "execution_count": null,
      "outputs": [
        {
          "output_type": "execute_result",
          "data": {
            "text/plain": [
              "0.8903715332286761"
            ]
          },
          "metadata": {},
          "execution_count": 154
        }
      ]
    },
    {
      "cell_type": "code",
      "source": [
        "cv_results['test_f1_macro'].mean()"
      ],
      "metadata": {
        "colab": {
          "base_uri": "https://localhost:8080/"
        },
        "id": "IWuoIgRzPbJg",
        "outputId": "7d12af71-1335-4c7e-dd5a-9a03a8e9cd9d"
      },
      "execution_count": null,
      "outputs": [
        {
          "output_type": "execute_result",
          "data": {
            "text/plain": [
              "0.880490653908853"
            ]
          },
          "metadata": {},
          "execution_count": 155
        }
      ]
    },
    {
      "cell_type": "code",
      "source": [
        "cv_results['test_roc_auc_ovr'].mean()"
      ],
      "metadata": {
        "colab": {
          "base_uri": "https://localhost:8080/"
        },
        "id": "ca2iWvN7PdiT",
        "outputId": "ef6e6068-2dfc-4a36-aedb-d26ec0a83620"
      },
      "execution_count": null,
      "outputs": [
        {
          "output_type": "execute_result",
          "data": {
            "text/plain": [
              "0.9896348635414858"
            ]
          },
          "metadata": {},
          "execution_count": 156
        }
      ]
    },
    {
      "cell_type": "markdown",
      "source": [
        "# **XGBoost**"
      ],
      "metadata": {
        "id": "cygFAlkbU9l1"
      }
    },
    {
      "cell_type": "code",
      "source": [
        "xgboost_model = XGBClassifier(random_state=17)"
      ],
      "metadata": {
        "id": "w4XKVYWm3dyw"
      },
      "execution_count": null,
      "outputs": []
    },
    {
      "cell_type": "code",
      "source": [
        "# Initialize LabelEncoder\n",
        "label_encoder = LabelEncoder()\n",
        "\n",
        "# Fit and transform y_train\n",
        "y_train_encoded = label_encoder.fit_transform(y_train)"
      ],
      "metadata": {
        "id": "o3UuknbSH-Ac"
      },
      "execution_count": null,
      "outputs": []
    },
    {
      "cell_type": "code",
      "source": [
        "cv_results = cross_validate(xgboost_model, X_train, y_train_encoded, cv=5, scoring=['accuracy','f1_macro', 'roc_auc_ovr'])"
      ],
      "metadata": {
        "collapsed": true,
        "id": "h--ZKhAAHap6"
      },
      "execution_count": null,
      "outputs": []
    },
    {
      "cell_type": "code",
      "source": [
        "cv_results['test_accuracy'].mean()"
      ],
      "metadata": {
        "colab": {
          "base_uri": "https://localhost:8080/"
        },
        "id": "8TtND_5xIK77",
        "outputId": "1193f403-a11a-4677-b599-41efb91c7d46"
      },
      "execution_count": null,
      "outputs": [
        {
          "output_type": "execute_result",
          "data": {
            "text/plain": [
              "0.8442700156985872"
            ]
          },
          "metadata": {},
          "execution_count": 56
        }
      ]
    },
    {
      "cell_type": "code",
      "source": [
        "cv_results['test_f1_macro'].mean()"
      ],
      "metadata": {
        "colab": {
          "base_uri": "https://localhost:8080/"
        },
        "id": "aeZGq2MbIK6K",
        "outputId": "48325ff3-0e7a-42dd-9c80-ad19c3fb87c4"
      },
      "execution_count": null,
      "outputs": [
        {
          "output_type": "execute_result",
          "data": {
            "text/plain": [
              "0.8266177307318324"
            ]
          },
          "metadata": {},
          "execution_count": 63
        }
      ]
    },
    {
      "cell_type": "code",
      "source": [
        "cv_results['test_roc_auc_ovr'].mean()"
      ],
      "metadata": {
        "colab": {
          "base_uri": "https://localhost:8080/"
        },
        "id": "BMacBadfIQmL",
        "outputId": "6bc014a9-4dd9-4791-94da-a1391f099878"
      },
      "execution_count": null,
      "outputs": [
        {
          "output_type": "execute_result",
          "data": {
            "text/plain": [
              "0.9776974199609434"
            ]
          },
          "metadata": {},
          "execution_count": 66
        }
      ]
    },
    {
      "cell_type": "code",
      "source": [
        "xgboost_params = {\n",
        "    'learning_rate': [0.01, 0.1],\n",
        "    'max_depth': [5,8,None],\n",
        "    'n_estimators': [100, 500, 1000],\n",
        "    'colsample_bytree': [None, 0.7, 1]\n",
        "}\n"
      ],
      "metadata": {
        "id": "VPs_ZpRNITOi"
      },
      "execution_count": null,
      "outputs": []
    },
    {
      "cell_type": "code",
      "source": [
        "# en iyi parametreler:\n",
        "xgboost_best_grid = GridSearchCV(xgboost_model, xgboost_params, cv=3, n_jobs=-1, verbose=2).fit(X_train, y_train_encoded)"
      ],
      "metadata": {
        "colab": {
          "base_uri": "https://localhost:8080/"
        },
        "id": "ogQ1hDk4IK4E",
        "outputId": "691eb026-e3a5-4342-c0e0-bf8824140f57"
      },
      "execution_count": null,
      "outputs": [
        {
          "output_type": "stream",
          "name": "stdout",
          "text": [
            "Fitting 3 folds for each of 54 candidates, totalling 162 fits\n"
          ]
        }
      ]
    },
    {
      "cell_type": "code",
      "source": [
        "xgboost_best_grid.best_params_"
      ],
      "metadata": {
        "colab": {
          "base_uri": "https://localhost:8080/"
        },
        "id": "D_l0V4O7Tn6m",
        "outputId": "b678b305-d51f-47ef-d1e2-59b512198ae6"
      },
      "execution_count": null,
      "outputs": [
        {
          "output_type": "execute_result",
          "data": {
            "text/plain": [
              "{'colsample_bytree': None,\n",
              " 'learning_rate': 0.1,\n",
              " 'max_depth': 5,\n",
              " 'n_estimators': 500}"
            ]
          },
          "metadata": {},
          "execution_count": 98
        }
      ]
    },
    {
      "cell_type": "code",
      "source": [
        "# Final modeli:\n",
        "xgboost_final = xgboost_model.set_params(**xgboost_best_grid.best_params_, random_state=17).fit(X_train, y_train_encoded)"
      ],
      "metadata": {
        "id": "ccotS41HIK1s"
      },
      "execution_count": null,
      "outputs": []
    },
    {
      "cell_type": "code",
      "source": [
        "cv_results = cross_validate(xgboost_final, X_train, y_train_encoded, cv=5, scoring=['accuracy','f1_macro', 'roc_auc_ovr'])"
      ],
      "metadata": {
        "id": "RThMU2g7QK_b"
      },
      "execution_count": null,
      "outputs": []
    },
    {
      "cell_type": "code",
      "source": [
        "cv_results['test_accuracy'].mean()"
      ],
      "metadata": {
        "colab": {
          "base_uri": "https://localhost:8080/"
        },
        "id": "3vWB0nBSQTGi",
        "outputId": "77de5a12-509a-4dcd-f5d4-dd377d5f5990"
      },
      "execution_count": null,
      "outputs": [
        {
          "output_type": "execute_result",
          "data": {
            "text/plain": [
              "0.8432443746729461"
            ]
          },
          "metadata": {},
          "execution_count": 95
        }
      ]
    },
    {
      "cell_type": "code",
      "source": [
        "cv_results['test_f1_macro'].mean()"
      ],
      "metadata": {
        "colab": {
          "base_uri": "https://localhost:8080/"
        },
        "id": "J4QsAPEOQamD",
        "outputId": "60cacce8-94da-4182-9880-1679ce1247ef"
      },
      "execution_count": null,
      "outputs": [
        {
          "output_type": "execute_result",
          "data": {
            "text/plain": [
              "0.8267381349942038"
            ]
          },
          "metadata": {},
          "execution_count": 96
        }
      ]
    },
    {
      "cell_type": "code",
      "source": [
        "cv_results['test_roc_auc_ovr'].mean()"
      ],
      "metadata": {
        "colab": {
          "base_uri": "https://localhost:8080/"
        },
        "id": "t3_BCnQeQbmt",
        "outputId": "f6a9d266-6918-43fe-90d6-ebfea6ac6b91"
      },
      "execution_count": null,
      "outputs": [
        {
          "output_type": "execute_result",
          "data": {
            "text/plain": [
              "0.978060405210637"
            ]
          },
          "metadata": {},
          "execution_count": 97
        }
      ]
    },
    {
      "cell_type": "code",
      "source": [],
      "metadata": {
        "id": "koKR12w-XHGQ"
      },
      "execution_count": null,
      "outputs": []
    },
    {
      "cell_type": "code",
      "source": [],
      "metadata": {
        "id": "z0LIEfn3XG9J"
      },
      "execution_count": null,
      "outputs": []
    }
  ]
}